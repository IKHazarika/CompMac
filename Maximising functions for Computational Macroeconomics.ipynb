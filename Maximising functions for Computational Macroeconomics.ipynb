{
 "cells": [
  {
   "cell_type": "code",
   "execution_count": 151,
   "id": "01e5bb72",
   "metadata": {},
   "outputs": [
    {
     "name": "stdout",
     "output_type": "stream",
     "text": [
      "\n"
     ]
    }
   ],
   "source": [
    "#Q2 Optimisation\n",
    "\n",
    "#2.1 Take different functions and optimize them on the computer (suggested types include globally concave function, function with multiple local optima, functions which can be made concave after a suitable reparametrization, etc.)\n",
    "\n",
    "#For this, I use the following libraries\n",
    "\n",
    "import scipy as sc\n",
    "import numpy as np\n",
    "import sympy as sm\n",
    "import scipy.optimize as opt\n",
    "import pandas as pd\n",
    "\n",
    "sm.init_session(quiet = True) #So that sympy uses LaTeX to print mathematical expressions making them easier to read"
   ]
  },
  {
   "cell_type": "code",
   "execution_count": 152,
   "id": "d7652e86",
   "metadata": {},
   "outputs": [
    {
     "data": {
      "image/png": "[encoded data removed]",
      "text/latex": [
       "$\\displaystyle \\left[ 0\\right]$"
      ],
      "text/plain": [
       "[0]"
      ]
     },
     "execution_count": 152,
     "metadata": {},
     "output_type": "execute_result"
    }
   ],
   "source": [
    "#I begin with a globally concave function in one variable and solve it theoretically with sympy\n",
    "\n",
    "y, x = sm.symbols('y, x')\n",
    "\n",
    "y = - (x**2)\n",
    "\n",
    "sm.solve(y.diff(x), x)\n",
    "\n",
    "#The answer 0 is displayed below. FOC is sufficient because the function is globally concave"
   ]
  },
  {
   "cell_type": "code",
   "execution_count": 153,
   "id": "d5b0e0f0",
   "metadata": {},
   "outputs": [
    {
     "data": {
      "image/png": "[encoded data removed]",
      "text/latex": [
       "$\\displaystyle \\left\\{ x : 0, \\  y : 0\\right\\}$"
      ],
      "text/plain": [
       "{x: 0, y: 0}"
      ]
     },
     "execution_count": 153,
     "metadata": {},
     "output_type": "execute_result"
    }
   ],
   "source": [
    "#Now I maximise a globally concave multivariate function theoretically with sympy\n",
    "\n",
    "z, y, x = sm.symbols('z, y, x')\n",
    "\n",
    "z = - x**2 + y**2\n",
    "\n",
    "FOC1 = sm.solve(z.diff(x), x, y) #First FOC\n",
    "FOC2 = sm.solve(z.diff(y), y, x) #Second FOC\n",
    "\n",
    "sm.solve((x - FOC1[0][0], y - FOC2[0][0], x, y)) #Solving both the conditions simultaneously\n",
    "\n",
    "#The answer x = 0, y = 0 is displayed. Because of global concavity, FOCs suffice"
   ]
  },
  {
   "cell_type": "code",
   "execution_count": 154,
   "id": "0e5d386b",
   "metadata": {},
   "outputs": [
    {
     "name": "stdout",
     "output_type": "stream",
     "text": [
      "[-sqrt(2), sqrt(2)]\n"
     ]
    }
   ],
   "source": [
    "#Now I maximise a single variable function that has two maxima using sympy\n",
    "\n",
    "y, x = sm.symbols('y, x')\n",
    "\n",
    "y = 4*(x**2) - x**4\n",
    "\n",
    "FOC = sm.solve(y.diff(x), x) #Finding critical points\n",
    "\n",
    "solutions = []\n",
    "\n",
    "for i in FOC: #For each critical point\n",
    "    if y.diff(x).diff(x).evalf(subs = {x:i}) < 0: #Checking the second order condition\n",
    "        solutions.append(i) #Keeping only those critical points that satisfy the 2nd order condition\n",
    "\n",
    "print(solutions)\n",
    "\n",
    "#The answers -sqrt(2), sqrt(2) are displayed below"
   ]
  },
  {
   "cell_type": "code",
   "execution_count": 155,
   "id": "501efd50",
   "metadata": {
    "scrolled": false
   },
   "outputs": [
    {
     "name": "stdout",
     "output_type": "stream",
     "text": [
      "The maximum value of the function is\n",
      "0.49992002618678677\n",
      "++++++++++++++++++++\n",
      "The following are the hundred different estimates of the maxima\n",
      "Since there are 100 different estimates, it would be difficult to eyeball them when printed\n",
      "I instead display them on a plot to make comprehension easier\n"
     ]
    },
    {
     "data": {
      "image/png": "[encoded data removed]",
      "text/plain": [
       "<Figure size 432x288 with 1 Axes>"
      ]
     },
     "metadata": {
      "needs_background": "light"
     },
     "output_type": "display_data"
    },
    {
     "name": "stdout",
     "output_type": "stream",
     "text": [
      "It appears that there are 4 maxima: at (-0.7, -0.7), (-0.7, 0.7), (0.7, -0.7) and (0.7, 0.7)\n"
     ]
    }
   ],
   "source": [
    "#Now I maximise a multivariable function with multiple maxima numerically using scipy\n",
    "\n",
    "#I wish to maximise the function g(x) = x^2 + y^2 - x^4 - y^4\n",
    "#I minimise f(x) = - g(x) to get the same answer\n",
    "\n",
    "# Defining the function to minimize\n",
    "def f(x):\n",
    "    return - x[0]**2 - x[1]**2 + x[0]**4 + x[1]**4\n",
    "\n",
    "#I will use the Newton-Rhapson method for this\n",
    "#I use 100 different initial guesses and see where the answers converge\n",
    "\n",
    "solutions = []\n",
    "    \n",
    "for i in range(10):\n",
    "    for j in range(10):\n",
    "        initialGuess = [(4*(i+1) - 22) / 9, (4*(j+1) - 22) / 9] #This generates an equally spaced grid from -2 to 2 in both dimensions\n",
    "        fprime = lambda x: opt.approx_fprime(x, f, 0.01) #There is a bug where only a callable Jacobian is accepted, this pre-calculates it numerically to avoid the bug\n",
    "        soln = opt.minimize(f, x0 = initialGuess, method = 'Newton-CG', jac = fprime)\n",
    "        solutions.append(soln.x) \n",
    "\n",
    "maxVal = - soln.fun\n",
    "print('The maximum value of the function is')\n",
    "print(maxVal)\n",
    "print('++++++++++++++++++++')\n",
    "print('The following are the hundred different estimates of the maxima')\n",
    "\n",
    "print('Since there are 100 different estimates, it would be difficult to eyeball them when printed')\n",
    "print('I instead display them on a plot to make comprehension easier')\n",
    "import matplotlib.pyplot as plt\n",
    "%matplotlib inline\n",
    "\n",
    "df = pd.DataFrame(solutions)\n",
    "df.columns = ['x', 'y']\n",
    "df.plot.scatter(x='x', y='y')\n",
    "plt.show()\n",
    "\n",
    "print('It appears that there are 4 maxima: at (-0.7, -0.7), (-0.7, 0.7), (0.7, -0.7) and (0.7, 0.7)')\n",
    "\n",
    "#If you wish to see the full list, however, you can uncomment the line below and run the code to see the full solutions' list\n",
    "\n",
    "#print(df)"
   ]
  },
  {
   "cell_type": "code",
   "execution_count": 156,
   "id": "6d594edb",
   "metadata": {},
   "outputs": [
    {
     "name": "stdout",
     "output_type": "stream",
     "text": [
      "The maximum value of the function is\n",
      "-2.3371724654424087e-05\n",
      "++++++++++++++++++++\n",
      "The following are the hundred different estimates of the maxima\n",
      "Since there are 100 different estimates, it would be difficult to eyeball them when printed\n",
      "I instead display them on a plot to make comprehension easier\n"
     ]
    },
    {
     "data": {
      "image/png": "[encoded data removed]",
      "text/plain": [
       "<Figure size 432x288 with 1 Axes>"
      ]
     },
     "metadata": {
      "needs_background": "light"
     },
     "output_type": "display_data"
    },
    {
     "name": "stdout",
     "output_type": "stream",
     "text": [
      "These estimates are scattered all around, probably because the function is misbehaving with respect to y\n",
      "These roughly appear to be rectangular hyperbolae\n",
      "Let us simplify things by reparametrisation to be more clear\n"
     ]
    }
   ],
   "source": [
    "#I now maximise a function which is concave only after reparametrisation\n",
    "\n",
    "#Consider the function g(x, y) = -(x + (1/y))^2\n",
    "#This function is not concave in y\n",
    "\n",
    "#I will first maximise it using Newton-Rhapson with scipy and then reparametrise it and solve it theoretically with sympy\n",
    "\n",
    "#Newton-Rhapson:\n",
    "\n",
    "#I minimise f(x, y) = - g(x, y) to get the same solution \n",
    "\n",
    "def f(x):\n",
    "    return ((x[0] + (1/x[1])) ** 2)\n",
    "\n",
    "solutions = []\n",
    "    \n",
    "for i in range(10):\n",
    "    for j in range(10):\n",
    "        initialGuess = [(4*(i+1) - 22) / 9, (4*(j+1) - 22) / 9] #This generates an equally spaced grid from -2 to 2 in both dimensions\n",
    "        fprime = lambda x: opt.approx_fprime(x, f, 0.01) #There is a bug where only a callable Jacobian is accepted, this pre-calculates it numerically to avoid the bug\n",
    "        soln = opt.minimize(f, x0 = initialGuess, method = 'Newton-CG', jac = fprime)\n",
    "        solutions.append(soln.x) \n",
    "\n",
    "maxVal = - soln.fun\n",
    "print('The maximum value of the function is')\n",
    "print(maxVal)\n",
    "print('++++++++++++++++++++')\n",
    "print('The following are the hundred different estimates of the maxima')\n",
    "\n",
    "print('Since there are 100 different estimates, it would be difficult to eyeball them when printed')\n",
    "print('I instead display them on a plot to make comprehension easier')\n",
    "import matplotlib.pyplot as plt\n",
    "%matplotlib inline\n",
    "\n",
    "df = pd.DataFrame(solutions)\n",
    "df.columns = ['x', 'y']\n",
    "df.plot.scatter(x='x', y='y')\n",
    "plt.show()\n",
    "\n",
    "#The Newton-Rhapson estimates are scattered all around, and we cannot make anything out of it\n",
    "print('These estimates are scattered all around, probably because the function is misbehaving with respect to y')\n",
    "print('These roughly appear to be rectangular hyperbolae')\n",
    "print('Let us simplify things by reparametrisation to be more clear')"
   ]
  },
  {
   "cell_type": "code",
   "execution_count": 157,
   "id": "dd115968",
   "metadata": {},
   "outputs": [
    {
     "name": "stdout",
     "output_type": "stream",
     "text": [
      "The maximum value of the function is\n",
      "-2.5000000030989552e-05\n",
      "++++++++++++++++++++\n",
      "The following are the hundred different estimates of the maxima\n",
      "Since there are 100 different estimates, it would be difficult to eyeball them when printed\n",
      "I instead display them on a plot to make comprehension easier\n"
     ]
    },
    {
     "data": {
      "image/png": "[encoded data removed]",
      "text/plain": [
       "<Figure size 432x288 with 1 Axes>"
      ]
     },
     "metadata": {
      "needs_background": "light"
     },
     "output_type": "display_data"
    },
    {
     "name": "stdout",
     "output_type": "stream",
     "text": [
      "Let us fit a line through it\n"
     ]
    },
    {
     "data": {
      "image/png": "[encoded data removed]",
      "text/plain": [
       "<Figure size 432x288 with 1 Axes>"
      ]
     },
     "metadata": {
      "needs_background": "light"
     },
     "output_type": "display_data"
    },
    {
     "name": "stdout",
     "output_type": "stream",
     "text": [
      "The solutions all lie on the line t = -x\n",
      "This gives us 1/y = -x or y = -1/x as our required solution\n"
     ]
    }
   ],
   "source": [
    "#I now reparametrise it by defining t = 1/y\n",
    "#With this the function becomes g(x) = (x + t)^2\n",
    "\n",
    "#I now solve it again using Newton-Rhapson\n",
    "\n",
    "def f(x):\n",
    "    return ((x[0] + x[1]) ** 2)\n",
    "\n",
    "solutions = []\n",
    "    \n",
    "for i in range(10):\n",
    "    for j in range(10):\n",
    "        initialGuess = [(4*(i+1) - 22) / 9, (4*(j+1) - 22) / 9] #This generates an equally spaced grid from -2 to 2 in both dimensions\n",
    "        fprime = lambda x: opt.approx_fprime(x, f, 0.01) #There is a bug where only a callable Jacobian is accepted, this pre-calculates it numerically to avoid the bug\n",
    "        soln = opt.minimize(f, x0 = initialGuess, method = 'Newton-CG', jac = fprime)\n",
    "        solutions.append(soln.x) \n",
    "\n",
    "maxVal = - soln.fun\n",
    "print('The maximum value of the function is')\n",
    "print(maxVal)\n",
    "print('++++++++++++++++++++')\n",
    "print('The following are the hundred different estimates of the maxima')\n",
    "\n",
    "print('Since there are 100 different estimates, it would be difficult to eyeball them when printed')\n",
    "print('I instead display them on a plot to make comprehension easier')\n",
    "import matplotlib.pyplot as plt\n",
    "%matplotlib inline\n",
    "\n",
    "df = pd.DataFrame(solutions)\n",
    "df.columns = ['x', 'y']\n",
    "df.plot.scatter(x='x', y='y')\n",
    "plt.show()\n",
    "print('Let us fit a line through it')\n",
    "df.plot(x = 'x', y = 'y')\n",
    "plt.show()\n",
    "\n",
    "print('The solutions all lie on the line t = -x')\n",
    "print('This gives us 1/y = -x or y = -1/x as our required solution')"
   ]
  },
  {
   "cell_type": "code",
   "execution_count": 158,
   "id": "a1c952cd",
   "metadata": {},
   "outputs": [
    {
     "data": {
      "image/png": "[encoded data removed]",
      "text/latex": [
       "$\\displaystyle \\left\\{ y : - \\frac{1}{x}\\right\\}$"
      ],
      "text/plain": [
       "⎧   -1 ⎫\n",
       "⎨y: ───⎬\n",
       "⎩    x ⎭"
      ]
     },
     "execution_count": 158,
     "metadata": {},
     "output_type": "execute_result"
    }
   ],
   "source": [
    "#We can confirm the previous conclusion theoretically with sympy\n",
    "\n",
    "z, y, x = sm.symbols('z, y, x')\n",
    "\n",
    "z = (x + (1/y))**2\n",
    "\n",
    "sm.solve([z.diff(x), z.diff(y)], y)\n",
    "\n",
    "#We get the same answer as the previous approach"
   ]
  }
 ],
 "metadata": {
  "kernelspec": {
   "display_name": "Python 3",
   "language": "python",
   "name": "python3"
  },
  "language_info": {
   "codemirror_mode": {
    "name": "ipython",
    "version": 3
   },
   "file_extension": ".py",
   "mimetype": "text/x-python",
   "name": "python",
   "nbconvert_exporter": "python",
   "pygments_lexer": "ipython3",
   "version": "3.8.8"
  }
 },
 "nbformat": 4,
 "nbformat_minor": 5
}
